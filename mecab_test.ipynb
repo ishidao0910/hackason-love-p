{
 "cells": [
  {
   "cell_type": "code",
   "execution_count": 1,
   "metadata": {},
   "outputs": [],
   "source": [
    "import pandas\n",
    "import re\n",
    "import MeCab"
   ]
  },
  {
   "cell_type": "code",
   "execution_count": 5,
   "metadata": {},
   "outputs": [
    {
     "ename": "NameError",
     "evalue": "name 'date_t' is not defined",
     "output_type": "error",
     "traceback": [
      "\u001b[0;31m---------------------------------------------------------------------------\u001b[0m",
      "\u001b[0;31mNameError\u001b[0m                                 Traceback (most recent call last)",
      "\u001b[0;32m<ipython-input-5-7c543e2e3c86>\u001b[0m in \u001b[0;36m<module>\u001b[0;34m\u001b[0m\n\u001b[1;32m     12\u001b[0m         \u001b[0mdate_list\u001b[0m\u001b[0;34m.\u001b[0m\u001b[0mappend\u001b[0m\u001b[0;34m(\u001b[0m\u001b[0mdate_t\u001b[0m\u001b[0;34m)\u001b[0m\u001b[0;34m\u001b[0m\u001b[0;34m\u001b[0m\u001b[0m\n\u001b[1;32m     13\u001b[0m     \u001b[0;32melse\u001b[0m\u001b[0;34m:\u001b[0m\u001b[0;34m\u001b[0m\u001b[0;34m\u001b[0m\u001b[0m\n\u001b[0;32m---> 14\u001b[0;31m         \u001b[0mdate_list\u001b[0m\u001b[0;34m.\u001b[0m\u001b[0mappend\u001b[0m\u001b[0;34m(\u001b[0m\u001b[0mdate_t\u001b[0m\u001b[0;34m)\u001b[0m\u001b[0;34m\u001b[0m\u001b[0;34m\u001b[0m\u001b[0m\n\u001b[0m\u001b[1;32m     15\u001b[0m \u001b[0;34m\u001b[0m\u001b[0m\n\u001b[1;32m     16\u001b[0m \u001b[0mline_df\u001b[0m\u001b[0;34m[\u001b[0m\u001b[0;34m'date'\u001b[0m\u001b[0;34m]\u001b[0m \u001b[0;34m=\u001b[0m \u001b[0mdate_list\u001b[0m\u001b[0;34m\u001b[0m\u001b[0;34m\u001b[0m\u001b[0m\n",
      "\u001b[0;31mNameError\u001b[0m: name 'date_t' is not defined"
     ]
    }
   ],
   "source": [
    "input_text =''\n",
    "line_df = pandas.read_csv(input_text, sep='\\n')\n",
    "line_df = line_df.rename(columns={line_df.columns[0]:'talks'})\n",
    "line_df = line_df[1:]\n",
    "# 正規表現でトークから日付を取得し新しいカラムとして結合する\n",
    "date_list = []\n",
    "date_pattern = '(\\d+)/(\\d+)/\\d+\\(.?\\)'\n",
    "for talk in line_df['talks']:\n",
    "    result = re.match(date_pattern, talk)\n",
    "    if result:\n",
    "        date_t = result.group()\n",
    "        date_list.append(date_t)\n",
    "    else:\n",
    "        date_list.append(date_t)\n",
    "        \n",
    "line_df['date'] = date_list\n",
    "\n",
    "# # talksにおいて日付のカラムはもう必要ないので、そこがTrueのものをisin関数で消す\n",
    "# flag = line_df['talks'].isin(line_df['date'])\n",
    "# line_df = line_df[~flag]\n",
    "# line_df.dropna(inplace=True)   "
   ]
  },
  {
   "cell_type": "code",
   "execution_count": 17,
   "metadata": {},
   "outputs": [
    {
     "ename": "NameError",
     "evalue": "name 'date_t' is not defined",
     "output_type": "error",
     "traceback": [
      "\u001b[0;31m---------------------------------------------------------------------------\u001b[0m",
      "\u001b[0;31mNameError\u001b[0m                                 Traceback (most recent call last)",
      "\u001b[0;32m<ipython-input-17-d1f4c4640bd2>\u001b[0m in \u001b[0;36m<module>\u001b[0;34m\u001b[0m\n\u001b[1;32m      8\u001b[0m         \u001b[0mdate_list\u001b[0m\u001b[0;34m.\u001b[0m\u001b[0mappend\u001b[0m\u001b[0;34m(\u001b[0m\u001b[0mdate_t\u001b[0m\u001b[0;34m)\u001b[0m\u001b[0;34m\u001b[0m\u001b[0;34m\u001b[0m\u001b[0m\n\u001b[1;32m      9\u001b[0m     \u001b[0;32melse\u001b[0m\u001b[0;34m:\u001b[0m\u001b[0;34m\u001b[0m\u001b[0;34m\u001b[0m\u001b[0m\n\u001b[0;32m---> 10\u001b[0;31m         \u001b[0mdate_list\u001b[0m\u001b[0;34m.\u001b[0m\u001b[0mappend\u001b[0m\u001b[0;34m(\u001b[0m\u001b[0mdate_t\u001b[0m\u001b[0;34m)\u001b[0m\u001b[0;34m\u001b[0m\u001b[0;34m\u001b[0m\u001b[0m\n\u001b[0m\u001b[1;32m     11\u001b[0m \u001b[0;34m\u001b[0m\u001b[0m\n\u001b[1;32m     12\u001b[0m \u001b[0mline_df\u001b[0m\u001b[0;34m[\u001b[0m\u001b[0;34m'date'\u001b[0m\u001b[0;34m]\u001b[0m \u001b[0;34m=\u001b[0m \u001b[0mdate_list\u001b[0m\u001b[0;34m\u001b[0m\u001b[0;34m\u001b[0m\u001b[0m\n",
      "\u001b[0;31mNameError\u001b[0m: name 'date_t' is not defined"
     ]
    }
   ],
   "source": []
  },
  {
   "cell_type": "code",
   "execution_count": 139,
   "metadata": {},
   "outputs": [],
   "source": [
    "text=re.sub('\\d+', '', str(line_df['talks'].to_list()))\n",
    "code_regex = re.compile('[!\"#$%&\\'\\\\\\\\()*+,-./:;<=>?@[\\\\]^_`{|}~「」〔〕“”〈〉『』【】＆＊・（）＄＃＠。、？！｀＋￥％/ー]')\n",
    "text = code_regex.sub('', text)\n",
    "text=text.replace('t','')"
   ]
  },
  {
   "cell_type": "code",
   "execution_count": 140,
   "metadata": {},
   "outputs": [],
   "source": [
    "line_df['mecab']=''"
   ]
  },
  {
   "cell_type": "code",
   "execution_count": 141,
   "metadata": {},
   "outputs": [],
   "source": [
    "tagger = MeCab.Tagger(\"-Owakati\")\n",
    "tagger.parse(\"\")\n",
    "lst = []\n",
    "try:\n",
    "    node = tagger.parseToNode(text).next\n",
    "    while node.next:\n",
    "        if \"名詞\" in node.feature:\n",
    "            lst.append(node.surface)\n",
    "        node = node.next\n",
    "except:\n",
    "    print(\"error\")"
   ]
  },
  {
   "cell_type": "markdown",
   "metadata": {},
   "source": []
  },
  {
   "cell_type": "code",
   "execution_count": 142,
   "metadata": {},
   "outputs": [],
   "source": [
    "import collections\n",
    "c = collections.Counter(lst)\n",
    "test=c.most_common(100)"
   ]
  },
  {
   "cell_type": "code",
   "execution_count": 143,
   "metadata": {},
   "outputs": [],
   "source": [
    "test_list=[]\n",
    "for i in range(0,99):\n",
    "    str1={\n",
    "        \"word\":str(test[i][0]),\n",
    "        \"count\":str(test[i][1])\n",
    "    }\n",
    "    test_list.append(str1)"
   ]
  },
  {
   "cell_type": "code",
   "execution_count": 144,
   "metadata": {},
   "outputs": [
    {
     "data": {
      "text/plain": [
       "\"[{'word': 'Go', 'count': '2650'}, {'word': 'ry', 'count': '2405'}, {'word': '笑', 'count': '1313'}, {'word': 'ん', 'count': '467'}, {'word': '僕', 'count': '371'}, {'word': 'さん', 'count': '334'}, {'word': 'これ', 'count': '286'}, {'word': 'の', 'count': '243'}, {'word': 's', 'count': '214'}, {'word': 'i', 'count': '183'}, {'word': 'p', 'count': '183'}, {'word': '写真', 'count': '171'}, {'word': 'a', 'count': '157'}, {'word': 'e', 'count': '154'}, {'word': 'o', 'count': '151'}, {'word': 'そう', 'count': '148'}, {'word': 'h', 'count': '143'}, {'word': '今', 'count': '142'}, {'word': 'rnGo', 'count': '141'}, {'word': 'こと', 'count': '138'}, {'word': 'rnry', 'count': '129'}, {'word': 'r', 'count': '116'}, {'word': '時間', 'count': '111'}, {'word': 'それ', 'count': '99'}, {'word': 'n', 'count': '96'}, {'word': '今日', 'count': '95'}, {'word': '時', 'count': '94'}, {'word': 'いや', 'count': '87'}, {'word': 'w', 'count': '87'}, {'word': 'c', 'count': '80'}, {'word': 'm', 'count': '78'}, {'word': 'y', 'count': '77'}, {'word': '三品', 'count': '75'}, {'word': 'b', 'count': '74'}, {'word': 'あと', 'count': '73'}, {'word': 'お', 'count': '72'}, {'word': '人', 'count': '72'}, {'word': '方', 'count': '64'}, {'word': '田尾', 'count': '64'}, {'word': '話', 'count': '63'}, {'word': '石', 'count': '63'}, {'word': '気', 'count': '60'}, {'word': '大丈夫', 'count': '59'}, {'word': 'l', 'count': '59'}, {'word': '一', 'count': '58'}, {'word': 'u', 'count': '58'}, {'word': '何', 'count': '57'}, {'word': '分析', 'count': '56'}, {'word': 'g', 'count': '56'}, {'word': 'd', 'count': '55'}, {'word': '感じ', 'count': '54'}, {'word': 'やつ', 'count': '54'}, {'word': 'よう', 'count': '51'}, {'word': '的', 'count': '50'}, {'word': 'ところ', 'count': '49'}, {'word': 'k', 'count': '49'}, {'word': '機能', 'count': '48'}, {'word': 'in', 'count': '47'}, {'word': '化', 'count': '47'}, {'word': 'API', 'count': '47'}, {'word': 'ゆ', 'count': '46'}, {'word': '辺', 'count': '45'}, {'word': '了解', 'count': '42'}, {'word': 'なん', 'count': '41'}, {'word': '自分', 'count': '40'}, {'word': '爆笑', 'count': '40'}, {'word': '実装', 'count': '40'}, {'word': 'みたい', 'count': '38'}, {'word': '問題', 'count': '38'}, {'word': '環境', 'count': '38'}, {'word': '日', 'count': '36'}, {'word': '申請', 'count': '36'}, {'word': '部分', 'count': '36'}, {'word': 'ここ', 'count': '35'}, {'word': 'さ', 'count': '35'}, {'word': '分', 'count': '35'}, {'word': '開発', 'count': '35'}, {'word': '明日', 'count': '35'}, {'word': '側', 'count': '35'}, {'word': 'お願い', 'count': '34'}, {'word': '技術', 'count': '34'}, {'word': '中', 'count': '33'}, {'word': 'フロント', 'count': '33'}, {'word': '必要', 'count': '32'}, {'word': '後', 'count': '32'}, {'word': '•', 'count': '32'}, {'word': 'コド', 'count': '31'}, {'word': '女の子', 'count': '31'}, {'word': 'すか', 'count': '30'}, {'word': '確か', 'count': '28'}, {'word': 'ファイル', 'count': '28'}, {'word': '藤田', 'count': '28'}, {'word': 'スタンプ', 'count': '27'}, {'word': 'そこ', 'count': '27'}, {'word': 'デタ', 'count': '27'}, {'word': '意味', 'count': '27'}, {'word': 'あれ', 'count': '27'}, {'word': 'もん', 'count': '26'}, {'word': '処理', 'count': '26'}]\""
      ]
     },
     "execution_count": 144,
     "metadata": {},
     "output_type": "execute_result"
    }
   ],
   "source": [
    "str(test_list)"
   ]
  }
 ],
 "metadata": {
  "interpreter": {
   "hash": "ecb9369c76fc6a159d5048e3044161244ca04fb59c0c557a14b41990f24c198d"
  },
  "kernelspec": {
   "display_name": "Python 3.8.10 64-bit ('test': conda)",
   "language": "python",
   "name": "python3"
  },
  "language_info": {
   "codemirror_mode": {
    "name": "ipython",
    "version": 3
   },
   "file_extension": ".py",
   "mimetype": "text/x-python",
   "name": "python",
   "nbconvert_exporter": "python",
   "pygments_lexer": "ipython3",
   "version": "3.8.10"
  },
  "orig_nbformat": 4
 },
 "nbformat": 4,
 "nbformat_minor": 2
}
